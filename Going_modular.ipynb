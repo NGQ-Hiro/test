{
  "nbformat": 4,
  "nbformat_minor": 0,
  "metadata": {
    "colab": {
      "provenance": [],
      "authorship_tag": "ABX9TyOAPszxPhn/hLpo3PW2rcX3",
      "include_colab_link": true
    },
    "kernelspec": {
      "name": "python3",
      "display_name": "Python 3"
    },
    "language_info": {
      "name": "python"
    },
    "widgets": {
      "application/vnd.jupyter.widget-state+json": {
        "3c1e526d901f4f329aeb45f5f7781212": {
          "model_module": "@jupyter-widgets/controls",
          "model_name": "HBoxModel",
          "model_module_version": "1.5.0",
          "state": {
            "_dom_classes": [],
            "_model_module": "@jupyter-widgets/controls",
            "_model_module_version": "1.5.0",
            "_model_name": "HBoxModel",
            "_view_count": null,
            "_view_module": "@jupyter-widgets/controls",
            "_view_module_version": "1.5.0",
            "_view_name": "HBoxView",
            "box_style": "",
            "children": [
              "IPY_MODEL_7ed6b5eba1a2479682180044bcf1ccf9",
              "IPY_MODEL_ed1353f0c833448cab2b8ade9a180c46",
              "IPY_MODEL_e01fb9b3d1064424837899e47e83f13b"
            ],
            "layout": "IPY_MODEL_9090d5d71db041b686a07649aab25b5c"
          }
        },
        "7ed6b5eba1a2479682180044bcf1ccf9": {
          "model_module": "@jupyter-widgets/controls",
          "model_name": "HTMLModel",
          "model_module_version": "1.5.0",
          "state": {
            "_dom_classes": [],
            "_model_module": "@jupyter-widgets/controls",
            "_model_module_version": "1.5.0",
            "_model_name": "HTMLModel",
            "_view_count": null,
            "_view_module": "@jupyter-widgets/controls",
            "_view_module_version": "1.5.0",
            "_view_name": "HTMLView",
            "description": "",
            "description_tooltip": null,
            "layout": "IPY_MODEL_b7b16ab8396347ac80bf62a3651901b0",
            "placeholder": "​",
            "style": "IPY_MODEL_0119591421264784981e33ab11568388",
            "value": "100%"
          }
        },
        "ed1353f0c833448cab2b8ade9a180c46": {
          "model_module": "@jupyter-widgets/controls",
          "model_name": "FloatProgressModel",
          "model_module_version": "1.5.0",
          "state": {
            "_dom_classes": [],
            "_model_module": "@jupyter-widgets/controls",
            "_model_module_version": "1.5.0",
            "_model_name": "FloatProgressModel",
            "_view_count": null,
            "_view_module": "@jupyter-widgets/controls",
            "_view_module_version": "1.5.0",
            "_view_name": "ProgressView",
            "bar_style": "success",
            "description": "",
            "description_tooltip": null,
            "layout": "IPY_MODEL_c4a493d6399949eaafb8d7368db176ad",
            "max": 5,
            "min": 0,
            "orientation": "horizontal",
            "style": "IPY_MODEL_374299b0c72544e79fa5507f7b201cf9",
            "value": 5
          }
        },
        "e01fb9b3d1064424837899e47e83f13b": {
          "model_module": "@jupyter-widgets/controls",
          "model_name": "HTMLModel",
          "model_module_version": "1.5.0",
          "state": {
            "_dom_classes": [],
            "_model_module": "@jupyter-widgets/controls",
            "_model_module_version": "1.5.0",
            "_model_name": "HTMLModel",
            "_view_count": null,
            "_view_module": "@jupyter-widgets/controls",
            "_view_module_version": "1.5.0",
            "_view_name": "HTMLView",
            "description": "",
            "description_tooltip": null,
            "layout": "IPY_MODEL_2f03adcbf8124143991e4c046b7ddfe7",
            "placeholder": "​",
            "style": "IPY_MODEL_8fba6b54227d40dea941173cee262856",
            "value": " 5/5 [00:09&lt;00:00,  1.81s/it]"
          }
        },
        "9090d5d71db041b686a07649aab25b5c": {
          "model_module": "@jupyter-widgets/base",
          "model_name": "LayoutModel",
          "model_module_version": "1.2.0",
          "state": {
            "_model_module": "@jupyter-widgets/base",
            "_model_module_version": "1.2.0",
            "_model_name": "LayoutModel",
            "_view_count": null,
            "_view_module": "@jupyter-widgets/base",
            "_view_module_version": "1.2.0",
            "_view_name": "LayoutView",
            "align_content": null,
            "align_items": null,
            "align_self": null,
            "border": null,
            "bottom": null,
            "display": null,
            "flex": null,
            "flex_flow": null,
            "grid_area": null,
            "grid_auto_columns": null,
            "grid_auto_flow": null,
            "grid_auto_rows": null,
            "grid_column": null,
            "grid_gap": null,
            "grid_row": null,
            "grid_template_areas": null,
            "grid_template_columns": null,
            "grid_template_rows": null,
            "height": null,
            "justify_content": null,
            "justify_items": null,
            "left": null,
            "margin": null,
            "max_height": null,
            "max_width": null,
            "min_height": null,
            "min_width": null,
            "object_fit": null,
            "object_position": null,
            "order": null,
            "overflow": null,
            "overflow_x": null,
            "overflow_y": null,
            "padding": null,
            "right": null,
            "top": null,
            "visibility": null,
            "width": null
          }
        },
        "b7b16ab8396347ac80bf62a3651901b0": {
          "model_module": "@jupyter-widgets/base",
          "model_name": "LayoutModel",
          "model_module_version": "1.2.0",
          "state": {
            "_model_module": "@jupyter-widgets/base",
            "_model_module_version": "1.2.0",
            "_model_name": "LayoutModel",
            "_view_count": null,
            "_view_module": "@jupyter-widgets/base",
            "_view_module_version": "1.2.0",
            "_view_name": "LayoutView",
            "align_content": null,
            "align_items": null,
            "align_self": null,
            "border": null,
            "bottom": null,
            "display": null,
            "flex": null,
            "flex_flow": null,
            "grid_area": null,
            "grid_auto_columns": null,
            "grid_auto_flow": null,
            "grid_auto_rows": null,
            "grid_column": null,
            "grid_gap": null,
            "grid_row": null,
            "grid_template_areas": null,
            "grid_template_columns": null,
            "grid_template_rows": null,
            "height": null,
            "justify_content": null,
            "justify_items": null,
            "left": null,
            "margin": null,
            "max_height": null,
            "max_width": null,
            "min_height": null,
            "min_width": null,
            "object_fit": null,
            "object_position": null,
            "order": null,
            "overflow": null,
            "overflow_x": null,
            "overflow_y": null,
            "padding": null,
            "right": null,
            "top": null,
            "visibility": null,
            "width": null
          }
        },
        "0119591421264784981e33ab11568388": {
          "model_module": "@jupyter-widgets/controls",
          "model_name": "DescriptionStyleModel",
          "model_module_version": "1.5.0",
          "state": {
            "_model_module": "@jupyter-widgets/controls",
            "_model_module_version": "1.5.0",
            "_model_name": "DescriptionStyleModel",
            "_view_count": null,
            "_view_module": "@jupyter-widgets/base",
            "_view_module_version": "1.2.0",
            "_view_name": "StyleView",
            "description_width": ""
          }
        },
        "c4a493d6399949eaafb8d7368db176ad": {
          "model_module": "@jupyter-widgets/base",
          "model_name": "LayoutModel",
          "model_module_version": "1.2.0",
          "state": {
            "_model_module": "@jupyter-widgets/base",
            "_model_module_version": "1.2.0",
            "_model_name": "LayoutModel",
            "_view_count": null,
            "_view_module": "@jupyter-widgets/base",
            "_view_module_version": "1.2.0",
            "_view_name": "LayoutView",
            "align_content": null,
            "align_items": null,
            "align_self": null,
            "border": null,
            "bottom": null,
            "display": null,
            "flex": null,
            "flex_flow": null,
            "grid_area": null,
            "grid_auto_columns": null,
            "grid_auto_flow": null,
            "grid_auto_rows": null,
            "grid_column": null,
            "grid_gap": null,
            "grid_row": null,
            "grid_template_areas": null,
            "grid_template_columns": null,
            "grid_template_rows": null,
            "height": null,
            "justify_content": null,
            "justify_items": null,
            "left": null,
            "margin": null,
            "max_height": null,
            "max_width": null,
            "min_height": null,
            "min_width": null,
            "object_fit": null,
            "object_position": null,
            "order": null,
            "overflow": null,
            "overflow_x": null,
            "overflow_y": null,
            "padding": null,
            "right": null,
            "top": null,
            "visibility": null,
            "width": null
          }
        },
        "374299b0c72544e79fa5507f7b201cf9": {
          "model_module": "@jupyter-widgets/controls",
          "model_name": "ProgressStyleModel",
          "model_module_version": "1.5.0",
          "state": {
            "_model_module": "@jupyter-widgets/controls",
            "_model_module_version": "1.5.0",
            "_model_name": "ProgressStyleModel",
            "_view_count": null,
            "_view_module": "@jupyter-widgets/base",
            "_view_module_version": "1.2.0",
            "_view_name": "StyleView",
            "bar_color": null,
            "description_width": ""
          }
        },
        "2f03adcbf8124143991e4c046b7ddfe7": {
          "model_module": "@jupyter-widgets/base",
          "model_name": "LayoutModel",
          "model_module_version": "1.2.0",
          "state": {
            "_model_module": "@jupyter-widgets/base",
            "_model_module_version": "1.2.0",
            "_model_name": "LayoutModel",
            "_view_count": null,
            "_view_module": "@jupyter-widgets/base",
            "_view_module_version": "1.2.0",
            "_view_name": "LayoutView",
            "align_content": null,
            "align_items": null,
            "align_self": null,
            "border": null,
            "bottom": null,
            "display": null,
            "flex": null,
            "flex_flow": null,
            "grid_area": null,
            "grid_auto_columns": null,
            "grid_auto_flow": null,
            "grid_auto_rows": null,
            "grid_column": null,
            "grid_gap": null,
            "grid_row": null,
            "grid_template_areas": null,
            "grid_template_columns": null,
            "grid_template_rows": null,
            "height": null,
            "justify_content": null,
            "justify_items": null,
            "left": null,
            "margin": null,
            "max_height": null,
            "max_width": null,
            "min_height": null,
            "min_width": null,
            "object_fit": null,
            "object_position": null,
            "order": null,
            "overflow": null,
            "overflow_x": null,
            "overflow_y": null,
            "padding": null,
            "right": null,
            "top": null,
            "visibility": null,
            "width": null
          }
        },
        "8fba6b54227d40dea941173cee262856": {
          "model_module": "@jupyter-widgets/controls",
          "model_name": "DescriptionStyleModel",
          "model_module_version": "1.5.0",
          "state": {
            "_model_module": "@jupyter-widgets/controls",
            "_model_module_version": "1.5.0",
            "_model_name": "DescriptionStyleModel",
            "_view_count": null,
            "_view_module": "@jupyter-widgets/base",
            "_view_module_version": "1.2.0",
            "_view_name": "StyleView",
            "description_width": ""
          }
        }
      }
    }
  },
  "cells": [
    {
      "cell_type": "markdown",
      "metadata": {
        "id": "view-in-github",
        "colab_type": "text"
      },
      "source": [
        "<a href=\"https://colab.research.google.com/github/NGQ-Hiro/test/blob/main/Going_modular.ipynb\" target=\"_parent\"><img src=\"https://colab.research.google.com/assets/colab-badge.svg\" alt=\"Open In Colab\"/></a>"
      ]
    },
    {
      "cell_type": "markdown",
      "source": [
        "# 0. Create folder going_modular"
      ],
      "metadata": {
        "id": "-waU-s8sJXpW"
      }
    },
    {
      "cell_type": "code",
      "source": [
        "import os\n",
        "\n",
        "if not os.path.exists('going_modular'):\n",
        "    os.mkdir('going_modular')\n"
      ],
      "metadata": {
        "id": "BGjjrIncJcmZ"
      },
      "execution_count": null,
      "outputs": []
    },
    {
      "cell_type": "markdown",
      "source": [
        "# 1. Get Data from url"
      ],
      "metadata": {
        "id": "jsIjuOd-1G6L"
      }
    },
    {
      "cell_type": "code",
      "source": [
        "import os\n",
        "import requests\n",
        "import zipfile\n",
        "from pathlib import Path\n",
        "\n",
        "# Setup path to data folder\n",
        "data_path = Path(\"data/\")\n",
        "image_path = data_path / \"pizza_steak_sushi\"\n",
        "\n",
        "# If the image folder doesn't exist, download it and prepare it...\n",
        "if image_path.is_dir():\n",
        "    print(f\"{image_path} directory exists.\")\n",
        "else:\n",
        "    print(f\"Did not find {image_path} directory, creating one...\")\n",
        "    image_path.mkdir(parents=True, exist_ok=True)\n",
        "\n",
        "# Download pizza, steak, sushi data\n",
        "with open(data_path / \"pizza_steak_sushi.zip\", \"wb\") as f:\n",
        "    request = requests.get(\"https://github.com/mrdbourke/pytorch-deep-learning/raw/main/data/pizza_steak_sushi.zip\")\n",
        "    print(\"Downloading pizza, steak, sushi data...\")\n",
        "    f.write(request.content)\n",
        "\n",
        "# Unzip pizza, steak, sushi data\n",
        "with zipfile.ZipFile(data_path / \"pizza_steak_sushi.zip\", \"r\") as zip_ref:\n",
        "    print(\"Unzipping pizza, steak, sushi data...\")\n",
        "    zip_ref.extractall(image_path)\n",
        "\n",
        "# Remove zip file\n",
        "os.remove(data_path / \"pizza_steak_sushi.zip\")\n"
      ],
      "metadata": {
        "colab": {
          "base_uri": "https://localhost:8080/"
        },
        "id": "knacYgTq1Pbg",
        "outputId": "3a73cabb-08a3-4858-bee7-b22d2d70d314"
      },
      "execution_count": null,
      "outputs": [
        {
          "output_type": "stream",
          "name": "stdout",
          "text": [
            "data/pizza_steak_sushi directory exists.\n",
            "Downloading pizza, steak, sushi data...\n",
            "Unzipping pizza, steak, sushi data...\n"
          ]
        }
      ]
    },
    {
      "cell_type": "markdown",
      "source": [
        "# 2. Create Datsets and DataLoaders (data_setup.py)"
      ],
      "metadata": {
        "id": "9gmw9jbG1Sta"
      }
    },
    {
      "cell_type": "code",
      "source": [
        "%%writefile going_modular/data_setup.py\n",
        "\n",
        "import os\n",
        "from torchvision import datasets, transforms\n",
        "from torch.utils.data import DataLoader\n",
        "\n",
        "NUM_WORKERS = os.cpu_count()\n",
        "\n",
        "def create_dataloaders(\n",
        "    train_dir: str,\n",
        "    test_dir: str,\n",
        "    transform: transforms.Compose,\n",
        "    batch_size: int,\n",
        "    num_workers: int=NUM_WORKERS\n",
        "):\n",
        "   # Use ImageFolder to create dataset(s)\n",
        "  train_data = datasets.ImageFolder(train_dir, transform=transform)\n",
        "  test_data = datasets.ImageFolder(test_dir, transform=transform)\n",
        "\n",
        "  # Get class names\n",
        "  class_names = train_data.classes\n",
        "\n",
        "  # Turn images into data loaders\n",
        "  train_dataloader = DataLoader(\n",
        "      train_data,\n",
        "      batch_size=batch_size,\n",
        "      shuffle=True,\n",
        "      num_workers=num_workers,\n",
        "      pin_memory=True,\n",
        "  )\n",
        "  test_dataloader = DataLoader(\n",
        "      test_data,\n",
        "      batch_size=batch_size,\n",
        "      shuffle=False, # don't need to shuffle test data\n",
        "      num_workers=num_workers,\n",
        "      pin_memory=True,\n",
        "  )\n",
        "\n",
        "  return train_dataloader, test_dataloader, class_names"
      ],
      "metadata": {
        "colab": {
          "base_uri": "https://localhost:8080/"
        },
        "id": "jldX_uUY1gwJ",
        "outputId": "19fd35c1-aaea-4aaa-8b35-d3734adc3f89"
      },
      "execution_count": null,
      "outputs": [
        {
          "output_type": "stream",
          "name": "stdout",
          "text": [
            "Overwriting going_modular/data_setup.py\n"
          ]
        }
      ]
    },
    {
      "cell_type": "markdown",
      "source": [
        "## Using the function within data_set.py"
      ],
      "metadata": {
        "id": "iBEiIn0k203X"
      }
    },
    {
      "cell_type": "code",
      "source": [
        "from going_modular import data_setup\n",
        "from torchvision import transforms\n",
        "train_dir = image_path / \"train\"\n",
        "test_dir = image_path / \"test\"\n",
        "\n",
        "data_transform = transforms.Compose([\n",
        "    transforms.Resize((64, 64)),\n",
        "    transforms.ToTensor()\n",
        "])\n",
        "\n",
        "train_dataloader, test_dataloader, class_names = data_setup.create_dataloaders(\n",
        "    train_dir=train_dir,\n",
        "    test_dir=test_dir,\n",
        "    transform=data_transform,\n",
        "    batch_size=32\n",
        ")"
      ],
      "metadata": {
        "id": "uoqJnaLm29OU"
      },
      "execution_count": null,
      "outputs": []
    },
    {
      "cell_type": "markdown",
      "source": [
        "# 3. Making a model (model_builder.py)"
      ],
      "metadata": {
        "id": "Y3YVUmPr13Zw"
      }
    },
    {
      "cell_type": "code",
      "source": [
        "%%writefile going_modular/model_builder.py\n",
        "import torch\n",
        "from torch import nn\n",
        "\n",
        "class TinyVGG(nn.Module):\n",
        "  \"\"\"Creates the TinyVGG architecture.\n",
        "\n",
        "  Replicates the TinyVGG architecture from the CNN explainer website in PyTorch.\n",
        "  See the original architecture here: https://poloclub.github.io/cnn-explainer/\n",
        "\n",
        "  Args:\n",
        "    input_shape: An integer indicating number of input channels.\n",
        "    hidden_units: An integer indicating number of hidden units between layers.\n",
        "    output_shape: An integer indicating number of output units.\n",
        "  \"\"\"\n",
        "  def __init__(self, input_shape: int, hidden_units: int, output_shape: int) -> None:\n",
        "      super().__init__()\n",
        "      self.conv_block_1 = nn.Sequential(\n",
        "          nn.Conv2d(in_channels=input_shape,\n",
        "                    out_channels=hidden_units,\n",
        "                    kernel_size=3,\n",
        "                    stride=1,\n",
        "                    padding=0),\n",
        "          nn.ReLU(),\n",
        "          nn.Conv2d(in_channels=hidden_units,\n",
        "                    out_channels=hidden_units,\n",
        "                    kernel_size=3,\n",
        "                    stride=1,\n",
        "                    padding=0),\n",
        "          nn.ReLU(),\n",
        "          nn.MaxPool2d(kernel_size=2,\n",
        "                        stride=2)\n",
        "      )\n",
        "      self.conv_block_2 = nn.Sequential(\n",
        "          nn.Conv2d(hidden_units, hidden_units, kernel_size=3, padding=0),\n",
        "          nn.ReLU(),\n",
        "          nn.Conv2d(hidden_units, hidden_units, kernel_size=3, padding=0),\n",
        "          nn.ReLU(),\n",
        "          nn.MaxPool2d(2)\n",
        "      )\n",
        "      self.classifier = nn.Sequential(\n",
        "          nn.Flatten(),\n",
        "          # Where did this in_features shape come from?\n",
        "          # It's because each layer of our network compresses and changes the shape of our inputs data.\n",
        "          nn.Linear(in_features=hidden_units*13*13,\n",
        "                    out_features=output_shape)\n",
        "      )\n",
        "\n",
        "  def forward(self, x: torch.Tensor):\n",
        "      return self.classifier(self.conv_block_2(self.conv_block_1(x))) # <- leverage the benefits of operator fusion"
      ],
      "metadata": {
        "colab": {
          "base_uri": "https://localhost:8080/"
        },
        "id": "znCTqMeG170D",
        "outputId": "41001a16-fbfa-416d-a641-0560c0928cde"
      },
      "execution_count": null,
      "outputs": [
        {
          "output_type": "stream",
          "name": "stdout",
          "text": [
            "Overwriting going_modular/model_builder.py\n"
          ]
        }
      ]
    },
    {
      "cell_type": "markdown",
      "source": [
        "## Create model and set up to device"
      ],
      "metadata": {
        "id": "ORfMF8K62Nx9"
      }
    },
    {
      "cell_type": "code",
      "source": [
        "import torch\n",
        "from going_modular import model_builder\n",
        "\n",
        "# Set up device\n",
        "device = 'cuda' if torch.cuda.is_available() else 'cpu'\n",
        "\n",
        "# Create model\n",
        "torch.manual_seed(42)\n",
        "model = model_builder.TinyVGG(input_shape=3,\n",
        "                                hidden_units=10,\n",
        "                                output_shape=len(class_names)).to(device)"
      ],
      "metadata": {
        "id": "FQ-incke2SxG"
      },
      "execution_count": null,
      "outputs": []
    },
    {
      "cell_type": "markdown",
      "source": [
        "# 4. Creating train_step() and test_step() functions and train() to combine them engine.py"
      ],
      "metadata": {
        "id": "ounUyuC22eNe"
      }
    },
    {
      "cell_type": "markdown",
      "source": [
        "## Train model"
      ],
      "metadata": {
        "id": "GIb-0mFl6kXL"
      }
    },
    {
      "cell_type": "code",
      "source": [
        "%%writefile going_modular/engine.py\n",
        "\n",
        "import torch\n",
        "from torch import nn\n",
        "from tqdm.auto import tqdm\n",
        "# from timeit import default_timer as timer\n",
        "from typing import Dict, List, Tuple\n",
        "\n",
        "def train_step(model: torch.nn.Module,\n",
        "               dataloader: torch.utils.data.DataLoader,\n",
        "               loss_fn: torch.nn.Module,\n",
        "               optimizer: torch.optim.Optimizer,\n",
        "               device: torch.device) -> Tuple[float, float]:\n",
        "    # Put model in train mode\n",
        "    model.train()\n",
        "\n",
        "    # Setup train loss, train accuracy\n",
        "    train_loss, train_acc = 0, 0\n",
        "\n",
        "    # Loop through data loader data batches\n",
        "    for batch, (x, y) in enumerate(dataloader):\n",
        "      # Send x, y to device\n",
        "      x, y = x.to(device), y.to(device)\n",
        "\n",
        "      # Forward\n",
        "      y_pred = model(x)\n",
        "\n",
        "      # Calculate loss\n",
        "      loss = loss_fn(y_pred, y)\n",
        "      train_loss += loss.item()\n",
        "\n",
        "      # Optimizer zero grad\n",
        "      optimizer.zero_grad()\n",
        "\n",
        "      # Loss backward\n",
        "      loss.backward()\n",
        "\n",
        "      # Optimizer step\n",
        "      optimizer.step()\n",
        "\n",
        "      # Calculate accuracy\n",
        "      y_pred_class = torch.argmax(y_pred, dim=1)\n",
        "      train_acc += (y_pred_class == y).sum().item()/len(y_pred)\n",
        "\n",
        "    # Average loss and accuracy per batch\n",
        "    train_loss /= len(dataloader)\n",
        "    train_acc /= len(dataloader)\n",
        "    return train_loss, train_acc\n",
        "\n",
        "\n",
        "\n",
        "def test_step(model: torch.nn.Module,\n",
        "              dataloader: torch.utils.data.DataLoader,\n",
        "              loss_fn: torch.nn.Module,\n",
        "              device: torch.device) -> Tuple[float, float]:\n",
        "  # Put model in eval mode\n",
        "  model.eval()\n",
        "\n",
        "  # Set up test loss, test accuracy\n",
        "  test_loss, test_acc = 0, 0\n",
        "\n",
        "  # Turn on inference mode\n",
        "  with torch.inference_mode():\n",
        "    # Loop through data loader batches\n",
        "    for batch, (x, y) in enumerate(dataloader):\n",
        "      # Send x, y to device\n",
        "      x, y = x.to(device), y.to(device)\n",
        "\n",
        "      # Forwardind\n",
        "      y_logits = model(x)\n",
        "\n",
        "      # Calculate and accumulate loss\n",
        "      loss = loss_fn(y_logits, y)\n",
        "      test_loss += loss.item()\n",
        "\n",
        "      # Calculate and accumulate accuracy\n",
        "      y_pred = torch.argmax(y_logits, dim=1)\n",
        "      test_acc += (y_pred == y).sum().item()/len(y_pred)\n",
        "\n",
        "  # Calculate loss and accuracy per batch\n",
        "  test_loss /= len(dataloader)\n",
        "  test_acc /= len(dataloader)\n",
        "  return test_loss, test_acc\n",
        "\n",
        "\n",
        "def train(model: torch.nn.Module,\n",
        "          train_dataloader: torch.utils.data.DataLoader,\n",
        "          test_dataloader: torch.utils.data.DataLoader,\n",
        "          loss_fn: torch.nn.Module,\n",
        "          optimizer: torch.optim.Optimizer,\n",
        "          epochs: int,\n",
        "          device: torch.device) -> Dict[str, list]:\n",
        "  # Create empty results dictionary\n",
        "  results ={\n",
        "      'train_loss': [],\n",
        "      'train_acc': [],\n",
        "      'test_loss': [],\n",
        "      'test_acc': []\n",
        "  }\n",
        "\n",
        "  # Loop through training and testing steps for numbers of epochs\n",
        "  for epoch in tqdm(range(epochs)):\n",
        "    train_loss, train_acc = train_step(model=model,\n",
        "                                       dataloader=train_dataloader,\n",
        "                                       loss_fn=loss_fn,\n",
        "                                       optimizer=optimizer,\n",
        "                                       device=device)\n",
        "    test_loss, test_acc = test_step(model=model,\n",
        "                                    dataloader=test_dataloader,\n",
        "                                    loss_fn=loss_fn,\n",
        "                                    device=device)\n",
        "    # Print result per epoch\n",
        "    print(\n",
        "          f\"Epoch: {epoch+1} | \"\n",
        "          f\"train_loss: {train_loss:.4f} | \"\n",
        "          f\"train_acc: {train_acc:.4f} | \"\n",
        "          f\"test_loss: {test_loss:.4f} | \"\n",
        "          f\"test_acc: {test_acc:.4f}\"\n",
        "      )\n",
        "\n",
        "    # Update results dictionary\n",
        "    results[\"train_loss\"].append(train_loss)\n",
        "    results[\"train_acc\"].append(train_acc)\n",
        "    results[\"test_loss\"].append(test_loss)\n",
        "    results[\"test_acc\"].append(test_acc)\n",
        "\n",
        "  return results"
      ],
      "metadata": {
        "colab": {
          "base_uri": "https://localhost:8080/"
        },
        "id": "1XTf_GFp3pwX",
        "outputId": "50abd824-43fe-4423-b5d6-112af0ba02fd"
      },
      "execution_count": null,
      "outputs": [
        {
          "output_type": "stream",
          "name": "stdout",
          "text": [
            "Writing going_modular/engine.py\n"
          ]
        }
      ]
    },
    {
      "cell_type": "code",
      "source": [
        "from going_modular import engine\n",
        "loss_fn = torch.nn.CrossEntropyLoss()\n",
        "optimizer = torch.optim.Adam(params=model.parameters(), lr=0.001)\n",
        "engine.train(model=model,\n",
        "           train_dataloader=train_dataloader,\n",
        "           test_dataloader=test_dataloader,\n",
        "           loss_fn=loss_fn,\n",
        "           optimizer=optimizer,\n",
        "           epochs=5,\n",
        "           device=device)"
      ],
      "metadata": {
        "colab": {
          "base_uri": "https://localhost:8080/",
          "height": 432,
          "referenced_widgets": [
            "3c1e526d901f4f329aeb45f5f7781212",
            "7ed6b5eba1a2479682180044bcf1ccf9",
            "ed1353f0c833448cab2b8ade9a180c46",
            "e01fb9b3d1064424837899e47e83f13b",
            "9090d5d71db041b686a07649aab25b5c",
            "b7b16ab8396347ac80bf62a3651901b0",
            "0119591421264784981e33ab11568388",
            "c4a493d6399949eaafb8d7368db176ad",
            "374299b0c72544e79fa5507f7b201cf9",
            "2f03adcbf8124143991e4c046b7ddfe7",
            "8fba6b54227d40dea941173cee262856"
          ]
        },
        "id": "Z9b2P00S6m9I",
        "outputId": "633affc3-c8d5-4110-cd68-e8bbcfa190ed"
      },
      "execution_count": null,
      "outputs": [
        {
          "output_type": "display_data",
          "data": {
            "text/plain": [
              "  0%|          | 0/5 [00:00<?, ?it/s]"
            ],
            "application/vnd.jupyter.widget-view+json": {
              "version_major": 2,
              "version_minor": 0,
              "model_id": "3c1e526d901f4f329aeb45f5f7781212"
            }
          },
          "metadata": {}
        },
        {
          "output_type": "stream",
          "name": "stdout",
          "text": [
            "Epoch: 1 | train_loss: 1.1063 | train_acc: 0.3047 | test_loss: 1.0983 | test_acc: 0.3011\n",
            "Epoch: 2 | train_loss: 1.0998 | train_acc: 0.3281 | test_loss: 1.0697 | test_acc: 0.5417\n",
            "Epoch: 3 | train_loss: 1.0869 | train_acc: 0.4883 | test_loss: 1.0808 | test_acc: 0.4924\n",
            "Epoch: 4 | train_loss: 1.0842 | train_acc: 0.3984 | test_loss: 1.0608 | test_acc: 0.5833\n",
            "Epoch: 5 | train_loss: 1.0662 | train_acc: 0.4141 | test_loss: 1.0654 | test_acc: 0.5644\n"
          ]
        },
        {
          "output_type": "execute_result",
          "data": {
            "text/plain": [
              "{'train_loss': [1.106319084763527,\n",
              "  1.0998057276010513,\n",
              "  1.0868544578552246,\n",
              "  1.0842333287000656,\n",
              "  1.0662163645029068],\n",
              " 'train_acc': [0.3046875, 0.328125, 0.48828125, 0.3984375, 0.4140625],\n",
              " 'test_loss': [1.0983205238978069,\n",
              "  1.069690187772115,\n",
              "  1.0807572205861409,\n",
              "  1.0608318249384563,\n",
              "  1.0653960307439168],\n",
              " 'test_acc': [0.30113636363636365,\n",
              "  0.5416666666666666,\n",
              "  0.49242424242424243,\n",
              "  0.5833333333333334,\n",
              "  0.5643939393939394]}"
            ]
          },
          "metadata": {},
          "execution_count": 37
        }
      ]
    },
    {
      "cell_type": "markdown",
      "source": [
        "# 5. Creating function to save model (utils.py)"
      ],
      "metadata": {
        "id": "LeQWKecu8LAM"
      }
    },
    {
      "cell_type": "code",
      "source": [
        "%%writefile going_modular/utils.py\n",
        "from pathlib import Path\n",
        "import torch\n",
        "\n",
        "def save_model(model: torch.nn.Module,\n",
        "             target_dir: str,\n",
        "             model_name: str):\n",
        "  target_dir_path = Path(target_dir)\n",
        "  target_dir_path.mkdir(parents=True,\n",
        "                        exist_ok=True)\n",
        "\n",
        "  model_save_path = target_dir_path / model_name\n",
        "\n",
        "  print(f'Saving model to: {model_save_path}')\n",
        "  torch.save(obj=model.state_dict(),\n",
        "             f=model_save_path)"
      ],
      "metadata": {
        "colab": {
          "base_uri": "https://localhost:8080/"
        },
        "id": "-sfcbhGP65Mu",
        "outputId": "46577e5d-aed5-430a-83a2-ab64c70e4838"
      },
      "execution_count": null,
      "outputs": [
        {
          "output_type": "stream",
          "name": "stdout",
          "text": [
            "Writing going_modular/utils.py\n"
          ]
        }
      ]
    },
    {
      "cell_type": "code",
      "source": [
        "from going_modular import utils\n",
        "utils.save_model(model=model,\n",
        "                 target_dir='models',\n",
        "                 model_name='05_going_modular_script_mode_tinyvgg_model.pth')"
      ],
      "metadata": {
        "colab": {
          "base_uri": "https://localhost:8080/"
        },
        "id": "R4W03Xh78yoG",
        "outputId": "22f71d1d-11df-4532-bf77-34c44e71b5d2"
      },
      "execution_count": null,
      "outputs": [
        {
          "output_type": "stream",
          "name": "stdout",
          "text": [
            "Saving model to: models/05_going_modular_script_mode_tinyvgg_model.pth\n"
          ]
        }
      ]
    },
    {
      "cell_type": "markdown",
      "source": [
        "# 6. Push to my github"
      ],
      "metadata": {
        "id": "mEW1GbTf9NIn"
      }
    },
    {
      "cell_type": "code",
      "source": [
        "!ls"
      ],
      "metadata": {
        "colab": {
          "base_uri": "https://localhost:8080/"
        },
        "id": "G2tTl1wNFK8Y",
        "outputId": "eaf98f37-de3f-4b3a-8475-caf8c719e198"
      },
      "execution_count": null,
      "outputs": [
        {
          "output_type": "stream",
          "name": "stdout",
          "text": [
            "data  going_modular  models  sample_data\n"
          ]
        }
      ]
    },
    {
      "cell_type": "code",
      "source": [
        "!git init\n",
        "!git remote add origin https://github.com/NGQ-Hiro/going_modular.git\n"
      ],
      "metadata": {
        "colab": {
          "base_uri": "https://localhost:8080/"
        },
        "id": "Yo-YsXWCKXFA",
        "outputId": "9734c417-aa1a-495e-91ac-e16c8c727c78"
      },
      "execution_count": null,
      "outputs": [
        {
          "output_type": "stream",
          "name": "stdout",
          "text": [
            "Reinitialized existing Git repository in /content/.git/\n",
            "error: remote origin already exists.\n"
          ]
        }
      ]
    },
    {
      "cell_type": "code",
      "source": [],
      "metadata": {
        "id": "6C7VljIULOSl"
      },
      "execution_count": null,
      "outputs": []
    },
    {
      "cell_type": "code",
      "source": [
        "!git status\n"
      ],
      "metadata": {
        "colab": {
          "base_uri": "https://localhost:8080/"
        },
        "id": "KfKkfAWDK0tp",
        "outputId": "e662e384-8d6e-40f1-8acb-f844044c4451"
      },
      "execution_count": null,
      "outputs": [
        {
          "output_type": "stream",
          "name": "stdout",
          "text": [
            "On branch master\n",
            "\n",
            "No commits yet\n",
            "\n",
            "Untracked files:\n",
            "  (use \"git add <file>...\" to include in what will be committed)\n",
            "\t\u001b[31m.config/\u001b[m\n",
            "\t\u001b[31mdata/\u001b[m\n",
            "\t\u001b[31mgoing_modular/\u001b[m\n",
            "\t\u001b[31mmodels/\u001b[m\n",
            "\t\u001b[31msample_data/\u001b[m\n",
            "\n",
            "nothing added to commit but untracked files present (use \"git add\" to track)\n"
          ]
        }
      ]
    },
    {
      "cell_type": "code",
      "source": [
        "!git add data/ models/ going_modular/"
      ],
      "metadata": {
        "id": "OquFEB4SLgz6"
      },
      "execution_count": null,
      "outputs": []
    },
    {
      "cell_type": "code",
      "source": [
        "!git config --global user.email \"ngo089120@gmail.com\"\n",
        "!git config --global user.name \"ngoquanghieu\"\n",
        "\n",
        "!git commit -m \"Add specific folders to going_modular repository\"\n"
      ],
      "metadata": {
        "colab": {
          "base_uri": "https://localhost:8080/"
        },
        "id": "jJgRXRtzLn8E",
        "outputId": "591d4fb4-4a47-4225-fbc9-40f698bb8f9e"
      },
      "execution_count": null,
      "outputs": [
        {
          "output_type": "stream",
          "name": "stdout",
          "text": [
            "[master (root-commit) 499125b] Add specific folders to going_modular repository\n",
            " 309 files changed, 228 insertions(+)\n",
            " create mode 100644 data/pizza_steak_sushi/test/pizza/1152100.jpg\n",
            " create mode 100644 data/pizza_steak_sushi/test/pizza/1503858.jpg\n",
            " create mode 100644 data/pizza_steak_sushi/test/pizza/1687143.jpg\n",
            " create mode 100644 data/pizza_steak_sushi/test/pizza/1925494.jpg\n",
            " create mode 100644 data/pizza_steak_sushi/test/pizza/194643.jpg\n",
            " create mode 100644 data/pizza_steak_sushi/test/pizza/195160.jpg\n",
            " create mode 100644 data/pizza_steak_sushi/test/pizza/2003290.jpg\n",
            " create mode 100644 data/pizza_steak_sushi/test/pizza/2019408.jpg\n",
            " create mode 100644 data/pizza_steak_sushi/test/pizza/2111981.jpg\n",
            " create mode 100644 data/pizza_steak_sushi/test/pizza/2124579.jpg\n",
            " create mode 100644 data/pizza_steak_sushi/test/pizza/2218680.jpg\n",
            " create mode 100644 data/pizza_steak_sushi/test/pizza/2236338.jpg\n",
            " create mode 100644 data/pizza_steak_sushi/test/pizza/2508636.jpg\n",
            " create mode 100644 data/pizza_steak_sushi/test/pizza/2871261.jpg\n",
            " create mode 100644 data/pizza_steak_sushi/test/pizza/3092704.jpg\n",
            " create mode 100644 data/pizza_steak_sushi/test/pizza/309892.jpg\n",
            " create mode 100644 data/pizza_steak_sushi/test/pizza/344397.jpg\n",
            " create mode 100644 data/pizza_steak_sushi/test/pizza/3475871.jpg\n",
            " create mode 100644 data/pizza_steak_sushi/test/pizza/398345.jpg\n",
            " create mode 100644 data/pizza_steak_sushi/test/pizza/416067.jpg\n",
            " create mode 100644 data/pizza_steak_sushi/test/pizza/540882.jpg\n",
            " create mode 100644 data/pizza_steak_sushi/test/pizza/648055.jpg\n",
            " create mode 100644 data/pizza_steak_sushi/test/pizza/714866.jpg\n",
            " create mode 100644 data/pizza_steak_sushi/test/pizza/930553.jpg\n",
            " create mode 100644 data/pizza_steak_sushi/test/pizza/971934.jpg\n",
            " create mode 100644 data/pizza_steak_sushi/test/steak/100274.jpg\n",
            " create mode 100644 data/pizza_steak_sushi/test/steak/1016217.jpg\n",
            " create mode 100644 data/pizza_steak_sushi/test/steak/1285886.jpg\n",
            " create mode 100644 data/pizza_steak_sushi/test/steak/1302563.jpg\n",
            " create mode 100644 data/pizza_steak_sushi/test/steak/1627703.jpg\n",
            " create mode 100644 data/pizza_steak_sushi/test/steak/1868005.jpg\n",
            " create mode 100644 data/pizza_steak_sushi/test/steak/1882831.jpg\n",
            " create mode 100644 data/pizza_steak_sushi/test/steak/2117351.jpg\n",
            " create mode 100644 data/pizza_steak_sushi/test/steak/2144308.jpg\n",
            " create mode 100644 data/pizza_steak_sushi/test/steak/27415.jpg\n",
            " create mode 100644 data/pizza_steak_sushi/test/steak/296375.jpg\n",
            " create mode 100644 data/pizza_steak_sushi/test/steak/3424937.jpg\n",
            " create mode 100644 data/pizza_steak_sushi/test/steak/354513.jpg\n",
            " create mode 100644 data/pizza_steak_sushi/test/steak/3873283.jpg\n",
            " create mode 100644 data/pizza_steak_sushi/test/steak/502076.jpg\n",
            " create mode 100644 data/pizza_steak_sushi/test/steak/673127.jpg\n",
            " create mode 100644 data/pizza_steak_sushi/test/steak/690177.jpg\n",
            " create mode 100644 data/pizza_steak_sushi/test/steak/894825.jpg\n",
            " create mode 100644 data/pizza_steak_sushi/test/steak/966174.jpg\n",
            " create mode 100644 data/pizza_steak_sushi/test/sushi/1172255.jpg\n",
            " create mode 100644 data/pizza_steak_sushi/test/sushi/1230335.jpg\n",
            " create mode 100644 data/pizza_steak_sushi/test/sushi/1245193.jpg\n",
            " create mode 100644 data/pizza_steak_sushi/test/sushi/1434806.jpg\n",
            " create mode 100644 data/pizza_steak_sushi/test/sushi/1600999.jpg\n",
            " create mode 100644 data/pizza_steak_sushi/test/sushi/1680893.jpg\n",
            " create mode 100644 data/pizza_steak_sushi/test/sushi/1742201.jpg\n",
            " create mode 100644 data/pizza_steak_sushi/test/sushi/175783.jpg\n",
            " create mode 100644 data/pizza_steak_sushi/test/sushi/1987407.jpg\n",
            " create mode 100644 data/pizza_steak_sushi/test/sushi/207578.jpg\n",
            " create mode 100644 data/pizza_steak_sushi/test/sushi/2190404.jpg\n",
            " create mode 100644 data/pizza_steak_sushi/test/sushi/2276986.jpg\n",
            " create mode 100644 data/pizza_steak_sushi/test/sushi/2385731.jpg\n",
            " create mode 100644 data/pizza_steak_sushi/test/sushi/2394442.jpg\n",
            " create mode 100644 data/pizza_steak_sushi/test/sushi/2521706.jpg\n",
            " create mode 100644 data/pizza_steak_sushi/test/sushi/2540511.jpg\n",
            " create mode 100644 data/pizza_steak_sushi/test/sushi/2715127.jpg\n",
            " create mode 100644 data/pizza_steak_sushi/test/sushi/2741434.jpg\n",
            " create mode 100644 data/pizza_steak_sushi/test/sushi/3177743.jpg\n",
            " create mode 100644 data/pizza_steak_sushi/test/sushi/3196729.jpg\n",
            " create mode 100644 data/pizza_steak_sushi/test/sushi/343036.jpg\n",
            " create mode 100644 data/pizza_steak_sushi/test/sushi/3806282.jpg\n",
            " create mode 100644 data/pizza_steak_sushi/test/sushi/3837522.jpg\n",
            " create mode 100644 data/pizza_steak_sushi/test/sushi/46797.jpg\n",
            " create mode 100644 data/pizza_steak_sushi/test/sushi/479711.jpg\n",
            " create mode 100644 data/pizza_steak_sushi/test/sushi/499605.jpg\n",
            " create mode 100644 data/pizza_steak_sushi/test/sushi/684266.jpg\n",
            " create mode 100644 data/pizza_steak_sushi/test/sushi/719108.jpg\n",
            " create mode 100644 data/pizza_steak_sushi/test/sushi/858157.jpg\n",
            " create mode 100644 data/pizza_steak_sushi/test/sushi/887831.jpg\n",
            " create mode 100644 data/pizza_steak_sushi/test/sushi/988559.jpg\n",
            " create mode 100644 data/pizza_steak_sushi/train/pizza/1008844.jpg\n",
            " create mode 100644 data/pizza_steak_sushi/train/pizza/1033251.jpg\n",
            " create mode 100644 data/pizza_steak_sushi/train/pizza/1044789.jpg\n",
            " create mode 100644 data/pizza_steak_sushi/train/pizza/1089334.jpg\n",
            " create mode 100644 data/pizza_steak_sushi/train/pizza/1105700.jpg\n",
            " create mode 100644 data/pizza_steak_sushi/train/pizza/12301.jpg\n",
            " create mode 100644 data/pizza_steak_sushi/train/pizza/1285298.jpg\n",
            " create mode 100644 data/pizza_steak_sushi/train/pizza/138855.jpg\n",
            " create mode 100644 data/pizza_steak_sushi/train/pizza/1412034.jpg\n",
            " create mode 100644 data/pizza_steak_sushi/train/pizza/1524655.jpg\n",
            " create mode 100644 data/pizza_steak_sushi/train/pizza/1572608.jpg\n",
            " create mode 100644 data/pizza_steak_sushi/train/pizza/1633289.jpg\n",
            " create mode 100644 data/pizza_steak_sushi/train/pizza/1649276.jpg\n",
            " create mode 100644 data/pizza_steak_sushi/train/pizza/1654444.jpg\n",
            " create mode 100644 data/pizza_steak_sushi/train/pizza/1660415.jpg\n",
            " create mode 100644 data/pizza_steak_sushi/train/pizza/1899785.jpg\n",
            " create mode 100644 data/pizza_steak_sushi/train/pizza/1947572.jpg\n",
            " create mode 100644 data/pizza_steak_sushi/train/pizza/1968947.jpg\n",
            " create mode 100644 data/pizza_steak_sushi/train/pizza/2026009.jpg\n",
            " create mode 100644 data/pizza_steak_sushi/train/pizza/2121603.jpg\n",
            " create mode 100644 data/pizza_steak_sushi/train/pizza/2154394.jpg\n",
            " create mode 100644 data/pizza_steak_sushi/train/pizza/218711.jpg\n",
            " create mode 100644 data/pizza_steak_sushi/train/pizza/2190018.jpg\n",
            " create mode 100644 data/pizza_steak_sushi/train/pizza/220190.jpg\n",
            " create mode 100644 data/pizza_steak_sushi/train/pizza/2228322.jpg\n",
            " create mode 100644 data/pizza_steak_sushi/train/pizza/2285942.jpg\n",
            " create mode 100644 data/pizza_steak_sushi/train/pizza/2291093.jpg\n",
            " create mode 100644 data/pizza_steak_sushi/train/pizza/2330965.jpg\n",
            " create mode 100644 data/pizza_steak_sushi/train/pizza/2382016.jpg\n",
            " create mode 100644 data/pizza_steak_sushi/train/pizza/2426686.jpg\n",
            " create mode 100644 data/pizza_steak_sushi/train/pizza/2428085.jpg\n",
            " create mode 100644 data/pizza_steak_sushi/train/pizza/244505.jpg\n",
            " create mode 100644 data/pizza_steak_sushi/train/pizza/2451169.jpg\n",
            " create mode 100644 data/pizza_steak_sushi/train/pizza/2493954.jpg\n",
            " create mode 100644 data/pizza_steak_sushi/train/pizza/2569760.jpg\n",
            " create mode 100644 data/pizza_steak_sushi/train/pizza/2576168.jpg\n",
            " create mode 100644 data/pizza_steak_sushi/train/pizza/2687575.jpg\n",
            " create mode 100644 data/pizza_steak_sushi/train/pizza/2702825.jpg\n",
            " create mode 100644 data/pizza_steak_sushi/train/pizza/2760984.jpg\n",
            " create mode 100644 data/pizza_steak_sushi/train/pizza/2785084.jpg\n",
            " create mode 100644 data/pizza_steak_sushi/train/pizza/2800325.jpg\n",
            " create mode 100644 data/pizza_steak_sushi/train/pizza/2811032.jpg\n",
            " create mode 100644 data/pizza_steak_sushi/train/pizza/2821048.jpg\n",
            " create mode 100644 data/pizza_steak_sushi/train/pizza/2885050.jpg\n",
            " create mode 100644 data/pizza_steak_sushi/train/pizza/2885796.jpg\n",
            " create mode 100644 data/pizza_steak_sushi/train/pizza/2924941.jpg\n",
            " create mode 100644 data/pizza_steak_sushi/train/pizza/29417.jpg\n",
            " create mode 100644 data/pizza_steak_sushi/train/pizza/2992084.jpg\n",
            " create mode 100644 data/pizza_steak_sushi/train/pizza/300869.jpg\n",
            " create mode 100644 data/pizza_steak_sushi/train/pizza/3018077.jpg\n",
            " create mode 100644 data/pizza_steak_sushi/train/pizza/3109486.jpg\n",
            " create mode 100644 data/pizza_steak_sushi/train/pizza/3196721.jpg\n",
            " create mode 100644 data/pizza_steak_sushi/train/pizza/320570.jpg\n",
            " create mode 100644 data/pizza_steak_sushi/train/pizza/3269634.jpg\n",
            " create mode 100644 data/pizza_steak_sushi/train/pizza/3281494.jpg\n",
            " create mode 100644 data/pizza_steak_sushi/train/pizza/3338774.jpg\n",
            " create mode 100644 data/pizza_steak_sushi/train/pizza/3441394.jpg\n",
            " create mode 100644 data/pizza_steak_sushi/train/pizza/3505182.jpg\n",
            " create mode 100644 data/pizza_steak_sushi/train/pizza/3530210.jpg\n",
            " create mode 100644 data/pizza_steak_sushi/train/pizza/3589437.jpg\n",
            " create mode 100644 data/pizza_steak_sushi/train/pizza/3699992.jpg\n",
            " create mode 100644 data/pizza_steak_sushi/train/pizza/3821701.jpg\n",
            " create mode 100644 data/pizza_steak_sushi/train/pizza/38349.jpg\n",
            " create mode 100644 data/pizza_steak_sushi/train/pizza/3860002.jpg\n",
            " create mode 100644 data/pizza_steak_sushi/train/pizza/393658.jpg\n",
            " create mode 100644 data/pizza_steak_sushi/train/pizza/5764.jpg\n",
            " create mode 100644 data/pizza_steak_sushi/train/pizza/618348.jpg\n",
            " create mode 100644 data/pizza_steak_sushi/train/pizza/667309.jpg\n",
            " create mode 100644 data/pizza_steak_sushi/train/pizza/68684.jpg\n",
            " create mode 100644 data/pizza_steak_sushi/train/pizza/702165.jpg\n",
            " create mode 100644 data/pizza_steak_sushi/train/pizza/715169.jpg\n",
            " create mode 100644 data/pizza_steak_sushi/train/pizza/739735.jpg\n",
            " create mode 100644 data/pizza_steak_sushi/train/pizza/741883.jpg\n",
            " create mode 100644 data/pizza_steak_sushi/train/pizza/764429.jpg\n",
            " create mode 100644 data/pizza_steak_sushi/train/pizza/765799.jpg\n",
            " create mode 100644 data/pizza_steak_sushi/train/pizza/786995.jpg\n",
            " create mode 100644 data/pizza_steak_sushi/train/pizza/853441.jpg\n",
            " create mode 100644 data/pizza_steak_sushi/train/pizza/928670.jpg\n",
            " create mode 100644 data/pizza_steak_sushi/train/steak/100135.jpg\n",
            " create mode 100644 data/pizza_steak_sushi/train/steak/1225762.jpg\n",
            " create mode 100644 data/pizza_steak_sushi/train/steak/1257104.jpg\n",
            " create mode 100644 data/pizza_steak_sushi/train/steak/1264154.jpg\n",
            " create mode 100644 data/pizza_steak_sushi/train/steak/1382427.jpg\n",
            " create mode 100644 data/pizza_steak_sushi/train/steak/1413972.jpg\n",
            " create mode 100644 data/pizza_steak_sushi/train/steak/1598345.jpg\n",
            " create mode 100644 data/pizza_steak_sushi/train/steak/1615395.jpg\n",
            " create mode 100644 data/pizza_steak_sushi/train/steak/1621763.jpg\n",
            " create mode 100644 data/pizza_steak_sushi/train/steak/1624747.jpg\n",
            " create mode 100644 data/pizza_steak_sushi/train/steak/1647351.jpg\n",
            " create mode 100644 data/pizza_steak_sushi/train/steak/165639.jpg\n",
            " create mode 100644 data/pizza_steak_sushi/train/steak/167069.jpg\n",
            " create mode 100644 data/pizza_steak_sushi/train/steak/1736968.jpg\n",
            " create mode 100644 data/pizza_steak_sushi/train/steak/1761285.jpg\n",
            " create mode 100644 data/pizza_steak_sushi/train/steak/176508.jpg\n",
            " create mode 100644 data/pizza_steak_sushi/train/steak/1787505.jpg\n",
            " create mode 100644 data/pizza_steak_sushi/train/steak/1839481.jpg\n",
            " create mode 100644 data/pizza_steak_sushi/train/steak/1849463.jpg\n",
            " create mode 100644 data/pizza_steak_sushi/train/steak/1937872.jpg\n",
            " create mode 100644 data/pizza_steak_sushi/train/steak/1961025.jpg\n",
            " create mode 100644 data/pizza_steak_sushi/train/steak/1966300.jpg\n",
            " create mode 100644 data/pizza_steak_sushi/train/steak/1976160.jpg\n",
            " create mode 100644 data/pizza_steak_sushi/train/steak/2013535.jpg\n",
            " create mode 100644 data/pizza_steak_sushi/train/steak/2017387.jpg\n",
            " create mode 100644 data/pizza_steak_sushi/train/steak/2087958.jpg\n",
            " create mode 100644 data/pizza_steak_sushi/train/steak/2129685.jpg\n",
            " create mode 100644 data/pizza_steak_sushi/train/steak/214320.jpg\n",
            " create mode 100644 data/pizza_steak_sushi/train/steak/2163079.jpg\n",
            " create mode 100644 data/pizza_steak_sushi/train/steak/2222018.jpg\n",
            " create mode 100644 data/pizza_steak_sushi/train/steak/2254705.jpg\n",
            " create mode 100644 data/pizza_steak_sushi/train/steak/225990.jpg\n",
            " create mode 100644 data/pizza_steak_sushi/train/steak/2287136.jpg\n",
            " create mode 100644 data/pizza_steak_sushi/train/steak/231296.jpg\n",
            " create mode 100644 data/pizza_steak_sushi/train/steak/2324994.jpg\n",
            " create mode 100644 data/pizza_steak_sushi/train/steak/234626.jpg\n",
            " create mode 100644 data/pizza_steak_sushi/train/steak/239025.jpg\n",
            " create mode 100644 data/pizza_steak_sushi/train/steak/2561199.jpg\n",
            " create mode 100644 data/pizza_steak_sushi/train/steak/256592.jpg\n",
            " create mode 100644 data/pizza_steak_sushi/train/steak/2603058.jpg\n",
            " create mode 100644 data/pizza_steak_sushi/train/steak/2606444.jpg\n",
            " create mode 100644 data/pizza_steak_sushi/train/steak/2614189.jpg\n",
            " create mode 100644 data/pizza_steak_sushi/train/steak/2614649.jpg\n",
            " create mode 100644 data/pizza_steak_sushi/train/steak/2628106.jpg\n",
            " create mode 100644 data/pizza_steak_sushi/train/steak/2629750.jpg\n",
            " create mode 100644 data/pizza_steak_sushi/train/steak/2648423.jpg\n",
            " create mode 100644 data/pizza_steak_sushi/train/steak/2707522.jpg\n",
            " create mode 100644 data/pizza_steak_sushi/train/steak/2825100.jpg\n",
            " create mode 100644 data/pizza_steak_sushi/train/steak/2878151.jpg\n",
            " create mode 100644 data/pizza_steak_sushi/train/steak/2880035.jpg\n",
            " create mode 100644 data/pizza_steak_sushi/train/steak/2881783.jpg\n",
            " create mode 100644 data/pizza_steak_sushi/train/steak/2979061.jpg\n",
            " create mode 100644 data/pizza_steak_sushi/train/steak/3074367.jpg\n",
            " create mode 100644 data/pizza_steak_sushi/train/steak/3142045.jpg\n",
            " create mode 100644 data/pizza_steak_sushi/train/steak/3142674.jpg\n",
            " create mode 100644 data/pizza_steak_sushi/train/steak/3245622.jpg\n",
            " create mode 100644 data/pizza_steak_sushi/train/steak/339891.jpg\n",
            " create mode 100644 data/pizza_steak_sushi/train/steak/3518960.jpg\n",
            " create mode 100644 data/pizza_steak_sushi/train/steak/355715.jpg\n",
            " create mode 100644 data/pizza_steak_sushi/train/steak/3577618.jpg\n",
            " create mode 100644 data/pizza_steak_sushi/train/steak/3727036.jpg\n",
            " create mode 100644 data/pizza_steak_sushi/train/steak/3727491.jpg\n",
            " create mode 100644 data/pizza_steak_sushi/train/steak/3857508.jpg\n",
            " create mode 100644 data/pizza_steak_sushi/train/steak/421476.jpg\n",
            " create mode 100644 data/pizza_steak_sushi/train/steak/443210.jpg\n",
            " create mode 100644 data/pizza_steak_sushi/train/steak/461689.jpg\n",
            " create mode 100644 data/pizza_steak_sushi/train/steak/482022.jpg\n",
            " create mode 100644 data/pizza_steak_sushi/train/steak/560503.jpg\n",
            " create mode 100644 data/pizza_steak_sushi/train/steak/735441.jpg\n",
            " create mode 100644 data/pizza_steak_sushi/train/steak/75537.jpg\n",
            " create mode 100644 data/pizza_steak_sushi/train/steak/830007.jpg\n",
            " create mode 100644 data/pizza_steak_sushi/train/steak/914570.jpg\n",
            " create mode 100644 data/pizza_steak_sushi/train/steak/922752.jpg\n",
            " create mode 100644 data/pizza_steak_sushi/train/steak/937133.jpg\n",
            " create mode 100644 data/pizza_steak_sushi/train/steak/97656.jpg\n",
            " create mode 100644 data/pizza_steak_sushi/train/sushi/1070104.jpg\n",
            " create mode 100644 data/pizza_steak_sushi/train/sushi/1129338.jpg\n",
            " create mode 100644 data/pizza_steak_sushi/train/sushi/1138695.jpg\n",
            " create mode 100644 data/pizza_steak_sushi/train/sushi/1209865.jpg\n",
            " create mode 100644 data/pizza_steak_sushi/train/sushi/1214108.jpg\n",
            " create mode 100644 data/pizza_steak_sushi/train/sushi/121940.jpg\n",
            " create mode 100644 data/pizza_steak_sushi/train/sushi/1221830.jpg\n",
            " create mode 100644 data/pizza_steak_sushi/train/sushi/1232045.jpg\n",
            " create mode 100644 data/pizza_steak_sushi/train/sushi/1280119.jpg\n",
            " create mode 100644 data/pizza_steak_sushi/train/sushi/14046.jpg\n",
            " create mode 100644 data/pizza_steak_sushi/train/sushi/148799.jpg\n",
            " create mode 100644 data/pizza_steak_sushi/train/sushi/1551817.jpg\n",
            " create mode 100644 data/pizza_steak_sushi/train/sushi/1552504.jpg\n",
            " create mode 100644 data/pizza_steak_sushi/train/sushi/1571146.jpg\n",
            " create mode 100644 data/pizza_steak_sushi/train/sushi/1575445.jpg\n",
            " create mode 100644 data/pizza_steak_sushi/train/sushi/1615453.jpg\n",
            " create mode 100644 data/pizza_steak_sushi/train/sushi/169392.jpg\n",
            " create mode 100644 data/pizza_steak_sushi/train/sushi/170385.jpg\n",
            " create mode 100644 data/pizza_steak_sushi/train/sushi/17704.jpg\n",
            " create mode 100644 data/pizza_steak_sushi/train/sushi/1957449.jpg\n",
            " create mode 100644 data/pizza_steak_sushi/train/sushi/200025.jpg\n",
            " create mode 100644 data/pizza_steak_sushi/train/sushi/2004525.jpg\n",
            " create mode 100644 data/pizza_steak_sushi/train/sushi/2017378.jpg\n",
            " create mode 100644 data/pizza_steak_sushi/train/sushi/2019344.jpg\n",
            " create mode 100644 data/pizza_steak_sushi/train/sushi/2021381.jpg\n",
            " create mode 100644 data/pizza_steak_sushi/train/sushi/2021685.jpg\n",
            " create mode 100644 data/pizza_steak_sushi/train/sushi/2120573.jpg\n",
            " create mode 100644 data/pizza_steak_sushi/train/sushi/2175561.jpg\n",
            " create mode 100644 data/pizza_steak_sushi/train/sushi/2267190.jpg\n",
            " create mode 100644 data/pizza_steak_sushi/train/sushi/2323548.jpg\n",
            " create mode 100644 data/pizza_steak_sushi/train/sushi/2492146.jpg\n",
            " create mode 100644 data/pizza_steak_sushi/train/sushi/2574453.jpg\n",
            " create mode 100644 data/pizza_steak_sushi/train/sushi/2590819.jpg\n",
            " create mode 100644 data/pizza_steak_sushi/train/sushi/2641778.jpg\n",
            " create mode 100644 data/pizza_steak_sushi/train/sushi/2674024.jpg\n",
            " create mode 100644 data/pizza_steak_sushi/train/sushi/268990.jpg\n",
            " create mode 100644 data/pizza_steak_sushi/train/sushi/2720223.jpg\n",
            " create mode 100644 data/pizza_steak_sushi/train/sushi/2797464.jpg\n",
            " create mode 100644 data/pizza_steak_sushi/train/sushi/2813454.jpg\n",
            " create mode 100644 data/pizza_steak_sushi/train/sushi/2871052.jpg\n",
            " create mode 100644 data/pizza_steak_sushi/train/sushi/2873571.jpg\n",
            " create mode 100644 data/pizza_steak_sushi/train/sushi/2980779.jpg\n",
            " create mode 100644 data/pizza_steak_sushi/train/sushi/3004029.jpg\n",
            " create mode 100644 data/pizza_steak_sushi/train/sushi/307738.jpg\n",
            " create mode 100644 data/pizza_steak_sushi/train/sushi/3081701.jpg\n",
            " create mode 100644 data/pizza_steak_sushi/train/sushi/3107839.jpg\n",
            " create mode 100644 data/pizza_steak_sushi/train/sushi/3251688.jpg\n",
            " create mode 100644 data/pizza_steak_sushi/train/sushi/3353428.jpg\n",
            " create mode 100644 data/pizza_steak_sushi/train/sushi/3360207.jpg\n",
            " create mode 100644 data/pizza_steak_sushi/train/sushi/3360232.jpg\n",
            " create mode 100644 data/pizza_steak_sushi/train/sushi/3426958.jpg\n",
            " create mode 100644 data/pizza_steak_sushi/train/sushi/3579071.jpg\n",
            " create mode 100644 data/pizza_steak_sushi/train/sushi/3737197.jpg\n",
            " create mode 100644 data/pizza_steak_sushi/train/sushi/377047.jpg\n",
            " create mode 100644 data/pizza_steak_sushi/train/sushi/385154.jpg\n",
            " create mode 100644 data/pizza_steak_sushi/train/sushi/390178.jpg\n",
            " create mode 100644 data/pizza_steak_sushi/train/sushi/424994.jpg\n",
            " create mode 100644 data/pizza_steak_sushi/train/sushi/497686.jpg\n",
            " create mode 100644 data/pizza_steak_sushi/train/sushi/542188.jpg\n",
            " create mode 100644 data/pizza_steak_sushi/train/sushi/686426.jpg\n",
            " create mode 100644 data/pizza_steak_sushi/train/sushi/700405.jpg\n",
            " create mode 100644 data/pizza_steak_sushi/train/sushi/710379.jpg\n",
            " create mode 100644 data/pizza_steak_sushi/train/sushi/748830.jpg\n",
            " create mode 100644 data/pizza_steak_sushi/train/sushi/765684.jpg\n",
            " create mode 100644 data/pizza_steak_sushi/train/sushi/773725.jpg\n",
            " create mode 100644 data/pizza_steak_sushi/train/sushi/794647.jpg\n",
            " create mode 100644 data/pizza_steak_sushi/train/sushi/821108.jpg\n",
            " create mode 100644 data/pizza_steak_sushi/train/sushi/840444.jpg\n",
            " create mode 100644 data/pizza_steak_sushi/train/sushi/843815.jpg\n",
            " create mode 100644 data/pizza_steak_sushi/train/sushi/855721.jpg\n",
            " create mode 100644 data/pizza_steak_sushi/train/sushi/929471.jpg\n",
            " create mode 100644 data/pizza_steak_sushi/train/sushi/93139.jpg\n",
            " create mode 100644 going_modular/__pycache__/data_setup.cpython-310.pyc\n",
            " create mode 100644 going_modular/__pycache__/engine.cpython-310.pyc\n",
            " create mode 100644 going_modular/__pycache__/model_builder.cpython-310.pyc\n",
            " create mode 100644 going_modular/__pycache__/utils.cpython-310.pyc\n",
            " create mode 100644 going_modular/data_setup.py\n",
            " create mode 100644 going_modular/engine.py\n",
            " create mode 100644 going_modular/model_builder.py\n",
            " create mode 100644 going_modular/utils.py\n",
            " create mode 100644 models/05_going_modular_script_mode_tinyvgg_model.pth\n"
          ]
        }
      ]
    },
    {
      "cell_type": "code",
      "source": [
        "!git push -u origin master"
      ],
      "metadata": {
        "colab": {
          "base_uri": "https://localhost:8080/"
        },
        "id": "USaYQ8crMBl8",
        "outputId": "fdf571fa-d956-4203-c293-aeae9e38d5f9"
      },
      "execution_count": null,
      "outputs": [
        {
          "output_type": "stream",
          "name": "stdout",
          "text": [
            "fatal: could not read Username for 'https://github.com': No such device or address\n"
          ]
        }
      ]
    },
    {
      "cell_type": "code",
      "source": [
        "!git status"
      ],
      "metadata": {
        "colab": {
          "base_uri": "https://localhost:8080/"
        },
        "id": "1XPnk3hLLzyu",
        "outputId": "42cdf441-04e6-40e2-97d3-7b46c2859b7c"
      },
      "execution_count": null,
      "outputs": [
        {
          "output_type": "stream",
          "name": "stdout",
          "text": [
            "On branch master\n",
            "Untracked files:\n",
            "  (use \"git add <file>...\" to include in what will be committed)\n",
            "\t\u001b[31m.config/\u001b[m\n",
            "\t\u001b[31msample_data/\u001b[m\n",
            "\n",
            "nothing added to commit but untracked files present (use \"git add\" to track)\n"
          ]
        }
      ]
    },
    {
      "cell_type": "code",
      "source": [
        "# finwaieogmămgưemgơmgvoewj"
      ],
      "metadata": {
        "id": "ckepiXzKKUYz"
      },
      "execution_count": 1,
      "outputs": []
    }
  ]
}